{
 "cells": [
  {
   "cell_type": "markdown",
   "metadata": {
    "deletable": true,
    "editable": true
   },
   "source": [
    "# Математическая статистика\n",
    "## Практическое задание 0\n",
    "\n",
    "В данном задании предлагается решить 4 простых задачи на использование функций библиотеки `numpy`. Хоть само задание и не относится к курсу статистики, оно является важным в условиях отсутствия курса по Питону. Решение этих задач поможет научить писать простой и понятный код, работающий при этом в десятки или даже в сотни раз быстрее. Нам же это облегчит процесс проверки.\n",
    "\n",
    "**Правила:**\n",
    "\n",
    "* Задание считается выполненным, если решено *не менее трех задач*.\n",
    "* Успешное выполнение задание является допуском для выполнения следующих практических заданий.\n",
    "* В случае неуспешного выполнения задания допускаются две попытки повторной сдачи. Мы будем стараться отвечать в течении трех дней.\n",
    "* Выполненную работу нужно отправить на почту `probability.diht@yandex.ru`, указав тему письма `\"[номер группы] Фамилия Имя - Задание 0\"`. Квадратные скобки обязательны.\n",
    "* Прислать нужно ноутбук и его pdf-версию. Названия файлов должны быть такими: `0.N.ipynb` и `0.N.pdf`, где `N` - ваш номер из таблицы с оценками.\n",
    "* В данном задании весь присылаемый код должен корректно работать на `Python 3.5`.\n",
    "\n",
    "\n",
    "Во всех заданиях предполагается, что все аргументы функций, которые нужно реализовать, имеют тип `numpy.array` либо являются числами. Возвращать нужно также либо `numpy.array`, либо число. Кроме того, предполагается, что все аргументы корректны, и проверять их на корректность не нужно.\n",
    "\n",
    "При реализации запрещается пользоваться любыми циклами, в том числе стандартными функциями языка, которые заменяют циклы. Можно использовать любые функции библиотек `numpy` или `scipy`, кроме функции `numpy.fromfunction` и декторатора `numpy.vectorize`."
   ]
  },
  {
   "cell_type": "code",
   "execution_count": 3,
   "metadata": {
    "collapsed": true,
    "deletable": true,
    "editable": true
   },
   "outputs": [],
   "source": [
    "import numpy as np\n",
    "import scipy.stats as sps\n",
    "import matplotlib.pyplot as plt\n",
    "\n",
    "%matplotlib inline"
   ]
  },
  {
   "cell_type": "markdown",
   "metadata": {
    "deletable": true,
    "editable": true
   },
   "source": [
    "**Задача 1.** Напишите функцию, реализующую матричное умножение. При вычислении разрешается создавать объекты размерности три. Запрещается пользоваться функциями, реализующими матричное умножение (`numpy.dot`, операция `@`, операция умножения в классе `numpy.matrix`). *Авторское решение занимает одну строчку.*"
   ]
  },
  {
   "cell_type": "markdown",
   "metadata": {
    "deletable": true,
    "editable": true
   },
   "source": [
    "**Решение:** изменим размерность каждой матрицы (точнее просто добавим еще одно измерение) с помощью метода `reshape`. Получим два объекта размерности три. Перемножим их поэлементно с помощью оператора `*`. Теперь если просуммируем по второй оси (`sum(axis=1)`), то получим в точности матрицу, равную произведению A и В."
   ]
  },
  {
   "cell_type": "code",
   "execution_count": 4,
   "metadata": {
    "collapsed": true,
    "deletable": true,
    "editable": true
   },
   "outputs": [],
   "source": [
    "def matrix_multiplication(A, B):    \n",
    "    return (A.reshape(A.shape[0], A.shape[1], 1) * B.reshape(1, B.shape[0], B.shape[1])).sum(axis=1)"
   ]
  },
  {
   "cell_type": "markdown",
   "metadata": {
    "deletable": true,
    "editable": true
   },
   "source": [
    "Проверьте правильность реализации на случайных матрицах. Должен получится ноль."
   ]
  },
  {
   "cell_type": "code",
   "execution_count": 5,
   "metadata": {
    "collapsed": false,
    "deletable": true,
    "editable": true
   },
   "outputs": [
    {
     "data": {
      "text/plain": [
       "6.5281113847959205e-14"
      ]
     },
     "execution_count": 5,
     "metadata": {},
     "output_type": "execute_result"
    }
   ],
   "source": [
    "A = sps.uniform.rvs(size=(10, 20))\n",
    "B = sps.uniform.rvs(size=(20, 30))\n",
    "np.abs(matrix_multiplication(A, B) - A @ B).sum()"
   ]
  },
  {
   "cell_type": "markdown",
   "metadata": {
    "deletable": true,
    "editable": true
   },
   "source": [
    "А вот в таком стиле вы присылали бы нам свои работы, если не стали бы делать это задание."
   ]
  },
  {
   "cell_type": "code",
   "execution_count": 6,
   "metadata": {
    "collapsed": true,
    "deletable": true,
    "editable": true
   },
   "outputs": [],
   "source": [
    "def stupid_matrix_multiplication(A, B):\n",
    "    C = [[0 for j in range(len(B[0]))] for i in range(len(A))]\n",
    "    for i in range(len(A)):\n",
    "        for j in range(len(B[0])):\n",
    "            for k in range(len(B)):\n",
    "                C[i][j] += A[i][k] * B[k][j]\n",
    "    return C"
   ]
  },
  {
   "cell_type": "markdown",
   "metadata": {
    "deletable": true,
    "editable": true
   },
   "source": [
    "Проверьте, насколько быстрее работает ваш код по сравнению с неэффективной реализацией `stupid_matrix_multiplication`. Эффективный код должен работать почти в 200 раз быстрее. Для примера посмотрите также, насколько быстрее работают встроенные `numpy`-функции."
   ]
  },
  {
   "cell_type": "code",
   "execution_count": 7,
   "metadata": {
    "collapsed": false,
    "deletable": true,
    "editable": true
   },
   "outputs": [
    {
     "name": "stdout",
     "output_type": "stream",
     "text": [
      "CPU times: user 84 ms, sys: 16 ms, total: 100 ms\n",
      "Wall time: 101 ms\n",
      "CPU times: user 4 ms, sys: 4 ms, total: 8 ms\n",
      "Wall time: 2.67 ms\n",
      "CPU times: user 0 ns, sys: 4 ms, total: 4 ms\n",
      "Wall time: 1.97 ms\n",
      "CPU times: user 15.1 s, sys: 184 ms, total: 15.3 s\n",
      "Wall time: 15.1 s\n"
     ]
    }
   ],
   "source": [
    "A = sps.uniform.rvs(size=(400, 200))\n",
    "B = sps.uniform.rvs(size=(200, 300))\n",
    "\n",
    "%time C1 = matrix_multiplication(A, B)\n",
    "%time C2 = A @ B  # python 3.5\n",
    "%time C3 = np.matrix(A) * np.matrix(B)\n",
    "%time C4 = stupid_matrix_multiplication(A, B)"
   ]
  },
  {
   "cell_type": "markdown",
   "metadata": {
    "deletable": true,
    "editable": true
   },
   "source": [
    "Ниже для примера приведена полная реализация функции. Ваc мы, конечно, не будем требовать проверять входные данные на корректность, но документации к функциям нужно писать."
   ]
  },
  {
   "cell_type": "code",
   "execution_count": null,
   "metadata": {
    "collapsed": true,
    "deletable": true,
    "editable": true
   },
   "outputs": [],
   "source": []
  },
  {
   "cell_type": "code",
   "execution_count": null,
   "metadata": {
    "collapsed": true,
    "deletable": true,
    "editable": true
   },
   "outputs": [],
   "source": [
    "def matrix_multiplication(A, B):\n",
    "    '''Возвращает матрицу, которая является результатом\n",
    "    матричного умножения матриц A и B.\n",
    "    \n",
    "    '''\n",
    "    \n",
    "    # Если A или B имеют другой тип, нужно выполнить преобразование типов\n",
    "    A = np.array(A)\n",
    "    B = np.array(B)\n",
    "    \n",
    "    # Проверка данных входных данных на корректность\n",
    "    assert A.ndim == 2 and B.ndim == 2, 'Размер матриц не равен 2'\n",
    "    assert A.shape[1] == B.shape[0], ('Матрицы размерностей '\n",
    "                                      '{} и {} неперемножаемы'.format(A.shape,\n",
    "                                                                      B.shape))\n",
    "    \n",
    "    C = <Тут ваш код>\n",
    "    \n",
    "    return C"
   ]
  },
  {
   "cell_type": "markdown",
   "metadata": {
    "deletable": true,
    "editable": true
   },
   "source": [
    "**Задача 2.** Напишите функцию, которая по входной последовательности $X = (X_1, ..., X_n)$ строит последовательность $S = (S_1, ..., S_n)$, где $S_k = \\frac{X_1 + ... + X_k}{k}$.  *Авторское решение занимает одну строчку.*"
   ]
  },
  {
   "cell_type": "markdown",
   "metadata": {
    "deletable": true,
    "editable": true
   },
   "source": [
    "**Решение:** нашу последовательность получим поэлементным делением массива кумулятивных сумм (полученного с помощью функции cumsum из numpy) на массив чисел от 1 до n (полученный с помощью функции arange из numpy)."
   ]
  },
  {
   "cell_type": "code",
   "execution_count": 8,
   "metadata": {
    "collapsed": true,
    "deletable": true,
    "editable": true
   },
   "outputs": [],
   "source": [
    "def cumavg(X):\n",
    "    return X.cumsum() / (np.arange(1, X.size + 1))"
   ]
  },
  {
   "cell_type": "markdown",
   "metadata": {
    "deletable": true,
    "editable": true
   },
   "source": [
    "Постройте график зависимости $S_k$ от $k$. График должен быть в виде ломанной линии с достаточно крупными точками. Размер фигуры 15 на 5, сетка в виде пунктирной линии."
   ]
  },
  {
   "cell_type": "code",
   "execution_count": 9,
   "metadata": {
    "collapsed": false,
    "deletable": true,
    "editable": true
   },
   "outputs": [
    {
     "data": {
      "image/png": "[encoded data removed]",
      "text/plain": [
       "<matplotlib.figure.Figure at 0x7fb1e70b15f8>"
      ]
     },
     "metadata": {},
     "output_type": "display_data"
    }
   ],
   "source": [
    "S = cumavg(sps.uniform.rvs(size=100))\n",
    "\n",
    "plt.figure(figsize=(15, 5))\n",
    "plt.grid(linestyle='--')\n",
    "x = np.arange(1, S.size + 1)\n",
    "plt.plot(x, S, marker='o')\n",
    "plt.show()"
   ]
  },
  {
   "cell_type": "markdown",
   "metadata": {
    "deletable": true,
    "editable": true
   },
   "source": [
    "Проверьте корректность работы реализации, а также ее эффективность. Эффективный код должен работать в 50 раз быстрее."
   ]
  },
  {
   "cell_type": "code",
   "execution_count": 10,
   "metadata": {
    "collapsed": false,
    "deletable": true,
    "editable": true
   },
   "outputs": [
    {
     "name": "stdout",
     "output_type": "stream",
     "text": [
      "CPU times: user 84 ms, sys: 8 ms, total: 92 ms\n",
      "Wall time: 94.2 ms\n",
      "CPU times: user 5.18 s, sys: 48 ms, total: 5.23 s\n",
      "Wall time: 5.23 s\n"
     ]
    },
    {
     "data": {
      "text/plain": [
       "0.0"
      ]
     },
     "execution_count": 10,
     "metadata": {},
     "output_type": "execute_result"
    }
   ],
   "source": [
    "def stupid_cumavg(X):\n",
    "    S = [0 for i in range(len(X))]\n",
    "    for i in range(len(X)):\n",
    "        S[i] = X[i] + S[i - 1]\n",
    "    for i in range(len(X)):\n",
    "        S[i] /= i + 1\n",
    "    return S\n",
    "\n",
    "X = sps.uniform.rvs(size=10 ** 7)\n",
    "\n",
    "%time S1 = cumavg(X)\n",
    "%time S2 = stupid_cumavg(X)\n",
    "\n",
    "np.abs(S1 - S2).sum()"
   ]
  },
  {
   "cell_type": "markdown",
   "metadata": {
    "deletable": true,
    "editable": true
   },
   "source": [
    "**Задача 3.** Дана матрица $A = (a_{ij})$ размера $n \\times m$. Вычислите величину $$\\frac{1}{m} \\sum_{j=1}^m \\min_{i=1, ..., n} a_{ij},$$ то есть средний минимум по столбцам. *Авторское решение занимает одну строчку.*"
   ]
  },
  {
   "cell_type": "markdown",
   "metadata": {
    "deletable": true,
    "editable": true
   },
   "source": [
    "**Решение:** используем сначала функцию min с параметром (axis = 0). Она возвращает массив минимумов по столбцам. Далее вычисляем среднее в этом массиве функцией mean. Это и будет ответ."
   ]
  },
  {
   "cell_type": "code",
   "execution_count": 11,
   "metadata": {
    "collapsed": true,
    "deletable": true,
    "editable": true
   },
   "outputs": [],
   "source": [
    "def avgmin(A):\n",
    "    return  A.min(axis=0).mean()"
   ]
  },
  {
   "cell_type": "markdown",
   "metadata": {
    "deletable": true,
    "editable": true
   },
   "source": [
    "Проверьте корректность работы реализации, а также ее эффективность. Эффективный код должен работать почти в 200 раз быстрее. Обратите внимание, что разность чисел может быть не равна нулю из-за ошибок округления, но должна иметь малый порядок."
   ]
  },
  {
   "cell_type": "code",
   "execution_count": 12,
   "metadata": {
    "collapsed": false,
    "deletable": true,
    "editable": true
   },
   "outputs": [
    {
     "name": "stdout",
     "output_type": "stream",
     "text": [
      "CPU times: user 52 ms, sys: 0 ns, total: 52 ms\n",
      "Wall time: 49.3 ms\n",
      "CPU times: user 13.3 s, sys: 60 ms, total: 13.4 s\n",
      "Wall time: 13.4 s\n",
      "3.52365706058e-19\n"
     ]
    }
   ],
   "source": [
    "def stupid_avgmin(A):\n",
    "    N, M = len(A), len(A[0])\n",
    "    min_col = [min([A[i][j] for i in range(N)]) for j in range(M)]\n",
    "    return sum(min_col) / M\n",
    "\n",
    "N, M = 5000, 10000\n",
    "A = sps.uniform.rvs(size=(N, M))\n",
    "\n",
    "%time S1 = avgmin(A)\n",
    "%time S2 = stupid_avgmin(A)\n",
    "\n",
    "print(np.abs(S1 - S2))"
   ]
  },
  {
   "cell_type": "markdown",
   "metadata": {
    "deletable": true,
    "editable": true
   },
   "source": [
    "**Задача 4.** Дан массив $X$. Требуется построить новый массив, в котором все четные элементы $X$ заменить на число $v$ (если оно не указано, то на ноль). Все нечетные элементы исходного массива нужно возвести в квадрат и записать в обратном порядке относительно позиций этих элементов. Массив $X$ при этом должен остаться без изменений."
   ]
  },
  {
   "cell_type": "markdown",
   "metadata": {
    "deletable": true,
    "editable": true
   },
   "source": [
    "**Решение:** сначала присвоим значение v абсолютно всем элементам. Затем нечетные элементы (мы получили их индексы с помощью логического выражения) возведем в квадрат и обратим их порядок."
   ]
  },
  {
   "cell_type": "code",
   "execution_count": 13,
   "metadata": {
    "collapsed": true,
    "deletable": true,
    "editable": true
   },
   "outputs": [],
   "source": [
    "def func4(X, v=0):\n",
    "    X_copy = X.copy()\n",
    "    X_copy[:] = v\n",
    "    X_copy[X % 2 == 1] = (X[X % 2 == 1] ** 2)[::-1]\n",
    "    return X_copy"
   ]
  },
  {
   "cell_type": "markdown",
   "metadata": {
    "deletable": true,
    "editable": true
   },
   "source": [
    "Проверьте корректность работы реализации, а также ее эффективность. Эффективный код должен работать в 20 раз быстрее."
   ]
  },
  {
   "cell_type": "code",
   "execution_count": 14,
   "metadata": {
    "collapsed": false,
    "deletable": true,
    "editable": true
   },
   "outputs": [
    {
     "name": "stdout",
     "output_type": "stream",
     "text": [
      "CPU times: user 388 ms, sys: 20 ms, total: 408 ms\n",
      "Wall time: 408 ms\n",
      "CPU times: user 5.52 s, sys: 32 ms, total: 5.55 s\n",
      "Wall time: 5.55 s\n"
     ]
    },
    {
     "data": {
      "text/plain": [
       "0"
      ]
     },
     "execution_count": 14,
     "metadata": {},
     "output_type": "execute_result"
    }
   ],
   "source": [
    "def stupid_func4(X, v=0):\n",
    "    odd = [elem ** 2 for elem in X if elem % 2]\n",
    "    \n",
    "    new_X = []\n",
    "    j = len(odd) - 1\n",
    "    for i in range(len(X)):\n",
    "        if X[i] % 2:\n",
    "            new_X.append(odd[j])\n",
    "            j -= 1\n",
    "        else:\n",
    "            new_X.append(v)\n",
    "    \n",
    "    return new_X\n",
    "\n",
    "X = sps.randint.rvs(size=10 ** 7, low=0, high=100)\n",
    "\n",
    "%time A1 = func4(X)\n",
    "%time A2 = stupid_func4(X)\n",
    "\n",
    "np.abs(A1 - A2).sum()"
   ]
  },
  {
   "cell_type": "markdown",
   "metadata": {
    "deletable": true,
    "editable": true
   },
   "source": [
    "**Вопрос:** За счет чего достигается такая эффективность методов `numpy`?\n",
    "\n",
    "**Ответ:** numpy работает с однотипными элементами, как C. В отличие от питона, который может обрабатывать различные типы данных. И многие функции реализованы через С."
   ]
  }
 ],
 "metadata": {
  "kernelspec": {
   "display_name": "Python 3",
   "language": "python",
   "name": "python3"
  },
  "language_info": {
   "codemirror_mode": {
    "name": "ipython",
    "version": 3
   },
   "file_extension": ".py",
   "mimetype": "text/x-python",
   "name": "python",
   "nbconvert_exporter": "python",
   "pygments_lexer": "ipython3",
   "version": "3.5.2"
  }
 },
 "nbformat": 4,
 "nbformat_minor": 0
}
