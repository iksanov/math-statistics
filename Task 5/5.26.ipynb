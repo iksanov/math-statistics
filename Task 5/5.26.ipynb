{
 "cells": [
  {
   "cell_type": "markdown",
   "metadata": {
    "deletable": true,
    "editable": true
   },
   "source": [
    "# Математическая статистика\n",
    "## Практическое задание 5\n",
    "\n",
    "В данном задании предлагается провести некоторое исследование модели линейной регрессии и критериев для проверки статистических гипотез, в частности применить этим модели к реальным данным.\n",
    "\n",
    "**Правила:**\n",
    "\n",
    "* Выполненную работу нужно отправить на почту `probability.diht@yandex.ru`, указав тему письма `\"[номер группы] Фамилия Имя - Задание 5\"`. Квадратные скобки обязательны. Вместо `Фамилия Имя` нужно подставить свои фамилию и имя.\n",
    "* Прислать нужно ноутбук и его pdf-версию. Названия файлов должны быть такими: `5.N.ipynb` и `5.N.pdf`, где `N` - ваш номер из таблицы с оценками.\n",
    "* Никакой код из данного задания при проверке запускаться не будет.\n",
    "* Некоторые задачи отмечены символом <font size=\"5\" color=\"red\">\\*</font>. Эти задачи являются дополнительными. Успешное выполнение большей части таких задач (за все задания) является необходимым условием получения бонусного балла за практическую часть курса.\n",
    "* Баллы за каждую задачу указаны далее. Если сумма баллов за задание меньше 25% (без учета доп. задач), то все задание оценивается в 0 баллов.\n",
    "\n",
    "\n",
    "**Баллы за задание:**\n",
    "\n",
    "* Задача 1 - 7 баллов\n",
    "* Задача 2 - 2 балла\n",
    "* Задача 3<font size=\"5\" color=\"red\">\\*</font> - 3 балла\n",
    "* Задача 4 - 2 балла\n",
    "* Задача 5<font size=\"5\" color=\"red\">\\*</font> - 10 баллов\n",
    "* Задача 6 - 5 баллов\n",
    "* Задача 7 - 4 балла\n",
    "* Задача 8<font size=\"5\" color=\"red\">\\*</font> - 4 балла\n",
    "* Задача 9<font size=\"5\" color=\"red\">\\*</font> - 10 баллов"
   ]
  },
  {
   "cell_type": "markdown",
   "metadata": {
    "deletable": true,
    "editable": true
   },
   "source": [
    "## 1. Линейная регрессия"
   ]
  },
  {
   "cell_type": "markdown",
   "metadata": {
    "deletable": true,
    "editable": true
   },
   "source": [
    "**Задача 1.** По шаблону напишите класс, реализующий линейную регрессию. Интерфейс этого класса в некоторой степени соответствует классу <a href=\"http://scikit-learn.org/stable/modules/generated/sklearn.linear_model.LinearRegression.html#sklearn.linear_model.LinearRegression\">`LinearRegression`</a> из библиотеки `sklearn`."
   ]
  },
  {
   "cell_type": "code",
   "execution_count": 2,
   "metadata": {
    "collapsed": true,
    "deletable": true,
    "editable": true
   },
   "outputs": [],
   "source": [
    "import numpy as np\n",
    "import scipy.stats as sps\n",
    "import matplotlib.pyplot as plt\n",
    "import pandas \n",
    "from pandas import DataFrame\n",
    "import scipy.linalg as slin\n",
    "import sklearn"
   ]
  },
  {
   "cell_type": "code",
   "execution_count": 482,
   "metadata": {
    "collapsed": false,
    "deletable": true,
    "editable": true
   },
   "outputs": [],
   "source": [
    "class LinearRegression:\n",
    "    def __init__(self):\n",
    "        super()\n",
    "        \n",
    "    def fit(self, X, Y, alpha=0.95):\n",
    "        ''' Обучение модели. Предполагается модель Y = X * theta + epsilon, \n",
    "            где X --- регрессор, Y --- отклик,\n",
    "            а epsilon имеет нормальное распределение с параметрами (0, sigma^2 * I_n).\n",
    "            alpha --- уровень доверия для доверительного интервала.\n",
    "        '''\n",
    "        \n",
    "        self.n, self.k = X.shape\n",
    "        \n",
    "        self.theta = np.linalg.inv(X.T @ X) @ X.T @ Y\n",
    "        self.sigma_sq = ((Y - X @ self.theta).T @ (Y - X @ self.theta)) / (self.n - self.k)\n",
    "        self.conf_int = np.empty(shape = (self.k, 2), dtype = float)\n",
    "        t1 = sps.t.ppf((1 + alpha) / 2, df=self.n - self.k)\n",
    "        t2 = sps.t.ppf((1 - alpha) / 2, df=self.n - self.k)\n",
    "        d = (self.sigma_sq * np.linalg.inv(X.T @ X).diagonal()) ** (0.5)\n",
    "        self.conf_int[:, 0] = self.theta.T - d * t1\n",
    "        self.conf_int[:, 1] = self.theta.T - d * t2\n",
    "        return self\n",
    "    \n",
    "    def summary(self):\n",
    "        print('Linear regression on %d features and %d examples' % (self.k, self.n))\n",
    "        print('Sigma: %.6f' % self.sigma_sq)\n",
    "        print('\\t\\tLower\\t\\tEstimation\\tUpper')\n",
    "        for j in range(self.k):\n",
    "            print('theta_%d:\\t%.6f\\t%.6f\\t%.6f' % (j, self.conf_int[j, 0], \n",
    "                                                   self.theta[j], self.conf_int[j, 1]))\n",
    "        \n",
    "    def predict(self, X):\n",
    "        ''' Возвращает предсказание отклика на новых объектах X. '''\n",
    "        \n",
    "        Y_pred = X @ self.theta\n",
    "        return Y_pred"
   ]
  },
  {
   "cell_type": "markdown",
   "metadata": {
    "deletable": true,
    "editable": true
   },
   "source": [
    "Загрузите данные о потреблении мороженного в зависимости от температуры воздуха и цены (файл `ice_cream.txt`).\n",
    "Примените реализованный выше класс линейной регрессии к этим данным предполагая, что модель имеет вид $ic = \\theta_1 + \\theta_2\\ t$, где $t$ --- температура воздуха (столбец `temp`), $ic$ --- постребление мороженного в литрах на человека (столбец `IC`).\n",
    "Значения температуры предварительно переведите из Фаренгейта в Цельсий [(Фаренгейт — 32) / 1,8 = Цельсий].\n",
    "\n",
    "К обученной модели примените фунцию `summary` и постройте график регрессии, то есть график прямой $ic = \\widehat{\\theta}_1 + \\widehat{\\theta}_2\\ t$, где $\\widehat{\\theta}_1, \\widehat{\\theta}_2$ --- МНК-оценки коэффициентов.\n",
    "На график нанесите точки выборки.\n",
    "Убедитесь, что построейнный график совпадает с графиком из презентации с первой лекции, правда, с точностью до значений температура (она была неправильно переведена из Фаренгейта в Цельсий)."
   ]
  },
  {
   "cell_type": "code",
   "execution_count": 483,
   "metadata": {
    "collapsed": false,
    "deletable": true,
    "editable": true
   },
   "outputs": [
    {
     "name": "stdout",
     "output_type": "stream",
     "text": [
      "Linear regression on 2 features and 30 examples\n",
      "Sigma: 0.001786\n",
      "\t\tLower\t\tEstimation\tUpper\n",
      "theta_0:\t0.283276\t0.306298\t0.329319\n",
      "theta_1:\t0.003831\t0.005593\t0.007355\n"
     ]
    },
    {
     "data": {
      "image/png": "[encoded data removed]",
      "text/plain": [
       "<matplotlib.figure.Figure at 0x7f94f68559b0>"
      ]
     },
     "metadata": {},
     "output_type": "display_data"
    },
    {
     "data": {
      "text/plain": [
       "array([ 0.052, -0.007, -0.01 ,  0.007, -0.015, -0.065, -0.069, -0.065,\n",
       "       -0.037, -0.025, -0.008,  0.01 ,  0.023, -0.013,  0.003, -0.022,\n",
       "        0.039,  0.012, -0.029, -0.051, -0.025, -0.024, -0.022,  0.035,\n",
       "        0.015,  0.05 ,  0.042,  0.048,  0.031,  0.121])"
      ]
     },
     "execution_count": 483,
     "metadata": {},
     "output_type": "execute_result"
    }
   ],
   "source": [
    "data = pandas.read_csv(\"ice_cream.txt\", sep='\\t')\n",
    "ic = np.array(data[\"IC\"], dtype=float)\n",
    "t = np.array(data[\"temp\"], dtype=float)\n",
    "t = (t - 32) / 1.8\n",
    "ic = ic.reshape(ic.shape[0], 1)\n",
    "#t = t.reshape(t.shape[0], 1)\n",
    "intercept = np.ones(shape = t.shape)\n",
    "X = np.empty(shape = (t.shape[0], 2))\n",
    "X[:, 1] = t\n",
    "X[:, 0] = intercept\n",
    "model = LinearRegression()\n",
    "model = model.fit(X, ic)\n",
    "model.summary()\n",
    "x = np.linspace(-20, 40, 1000)\n",
    "X1 = np.empty(shape = (x.shape[0], 2))\n",
    "X1[:, 1] = x\n",
    "X1[:, 0] = np.ones(shape= x.shape)\n",
    "y = model.predict(X1)\n",
    "residuals = (ic - model.predict(X)).reshape(30)\n",
    "plt.plot(x, y)\n",
    "plt.scatter(t, ic)\n",
    "plt.show()\n",
    "residuals"
   ]
  },
  {
   "cell_type": "markdown",
   "metadata": {
    "deletable": true,
    "editable": true
   },
   "source": [
    "Теперь учтите влияние года (столбец `Year`) для двух случаев:\n",
    "* модель $ic = \\theta_1 + \\theta_2\\ t + \\theta_3 y_1 + \\theta_4 y_2$, где $y_1 = I\\{1\\ год\\}, y_2 = I\\{2\\ год\\}$. Поясните, почему нельзя рассмативать одну переменную $y$ --- номер года.\n",
    "* для каждого года рассматривается своя линейная зависимость $ic = \\theta_1 + \\theta_2\\ t$.\n",
    "\n",
    "В каждом случае нарисуйте графики. Отличаются ли полученные результаты? От чего это зависит? Как зависит потребление мороженного от года? "
   ]
  },
  {
   "cell_type": "code",
   "execution_count": 484,
   "metadata": {
    "collapsed": false,
    "deletable": true,
    "editable": true
   },
   "outputs": [
    {
     "name": "stdout",
     "output_type": "stream",
     "text": [
      "Linear regression on 4 features and 30 examples\n",
      "Sigma: 0.001016\n",
      "\t\tLower\t\tEstimation\tUpper\n",
      "theta_0:\t0.251176\t0.277050\t0.302923\n",
      "theta_1:\t0.004741\t0.006095\t0.007449\n",
      "theta_2:\t-0.011237\t0.016491\t0.044218\n",
      "theta_3:\t0.041535\t0.074307\t0.107078\n",
      "Linear regression on 2 features and 10 examples\n",
      "Sigma: 0.001597\n",
      "\t\tLower\t\tEstimation\tUpper\n",
      "theta_0:\t0.236963\t0.286405\t0.335846\n",
      "theta_1:\t0.001787\t0.005277\t0.008767\n"
     ]
    },
    {
     "data": {
      "image/png": "[encoded data removed]",
      "text/plain": [
       "<matplotlib.figure.Figure at 0x7f94f67a50f0>"
      ]
     },
     "metadata": {},
     "output_type": "display_data"
    },
    {
     "name": "stdout",
     "output_type": "stream",
     "text": [
      "Linear regression on 2 features and 13 examples\n",
      "Sigma: 0.000667\n",
      "\t\tLower\t\tEstimation\tUpper\n",
      "theta_0:\t0.274993\t0.297426\t0.319859\n",
      "theta_1:\t0.003935\t0.005672\t0.007409\n"
     ]
    },
    {
     "data": {
      "image/png": "[encoded data removed]",
      "text/plain": [
       "<matplotlib.figure.Figure at 0x7f94f69d74e0>"
      ]
     },
     "metadata": {},
     "output_type": "display_data"
    },
    {
     "name": "stdout",
     "output_type": "stream",
     "text": [
      "Linear regression on 2 features and 7 examples\n",
      "Sigma: 0.000766\n",
      "\t\tLower\t\tEstimation\tUpper\n",
      "theta_0:\t0.303805\t0.338346\t0.372886\n",
      "theta_1:\t0.004907\t0.007877\t0.010846\n"
     ]
    },
    {
     "data": {
      "image/png": "[encoded data removed]",
      "text/plain": [
       "<matplotlib.figure.Figure at 0x7f94f68c0668>"
      ]
     },
     "metadata": {},
     "output_type": "display_data"
    }
   ],
   "source": [
    "# Общая модель\n",
    "ic = np.array(data[\"IC\"], dtype=float)\n",
    "t = np.array(data[\"temp\"], dtype=float)\n",
    "year = np.array(data[\"Year\"], dtype=int)\n",
    "t = (t - 32) / 1.8\n",
    "ic = ic.reshape(ic.shape[0], 1)\n",
    "year1 = [1 if value == 1 else 0 for value in year]\n",
    "year2 = [1 if value == 2 else 0 for value in year]\n",
    "intercept = np.ones(shape = t.shape)\n",
    "X = np.empty(shape = (t.shape[0], 4))\n",
    "X[:, 3] = year2\n",
    "X[:, 2] = year1\n",
    "X[:, 1] = t\n",
    "X[:, 0] = intercept\n",
    "model = LinearRegression()\n",
    "model = model.fit(X, ic)\n",
    "model.summary()\n",
    "# Модель для нулевого года\n",
    "ic0 = ic[0: 10]\n",
    "t0 = t[0: 10]\n",
    "ic0 = ic0.reshape(ic0.shape[0], 1)\n",
    "intercept = np.ones(shape = t0.shape)\n",
    "X = np.empty(shape = (t0.shape[0], 2))\n",
    "X[:, 1] = t0\n",
    "X[:, 0] = intercept\n",
    "model = LinearRegression()\n",
    "model = model.fit(X, ic0)\n",
    "model.summary()\n",
    "x = np.linspace(-20, 40, 1000)\n",
    "X1 = np.empty(shape = (x.shape[0], 2))\n",
    "X1[:, 1] = x\n",
    "X1[:, 0] = np.ones(shape= x.shape)\n",
    "y = model.predict(X1)\n",
    "plt.plot(x, y)\n",
    "plt.scatter(t0, ic0)\n",
    "plt.show()\n",
    "\n",
    "\n",
    "# Модель для первого года\n",
    "ic1 = ic[10: 23]\n",
    "t1 = t[10: 23]\n",
    "ic1 = ic1.reshape(ic1.shape[0], 1)\n",
    "intercept = np.ones(shape = t1.shape)\n",
    "X = np.empty(shape = (t1.shape[0], 2))\n",
    "X[:, 1] = t1\n",
    "X[:, 0] = intercept\n",
    "model = LinearRegression()\n",
    "model = model.fit(X, ic1)\n",
    "model.summary()\n",
    "x = np.linspace(-20, 40, 1000)\n",
    "X1 = np.empty(shape = (x.shape[0], 2))\n",
    "X1[:, 1] = x\n",
    "X1[:, 0] = np.ones(shape= x.shape)\n",
    "y = model.predict(X1)\n",
    "plt.plot(x, y)\n",
    "plt.scatter(t1, ic1)\n",
    "plt.show()\n",
    "\n",
    "\n",
    "# Модель для второго года\n",
    "ic2 = ic[23:]\n",
    "t2 = t[23:]\n",
    "ic2 = ic2.reshape(ic2.shape[0], 1)\n",
    "intercept = np.ones(shape = t2.shape)\n",
    "X = np.empty(shape = (t2.shape[0], 2))\n",
    "X[:, 1] = t2\n",
    "X[:, 0] = intercept\n",
    "model = LinearRegression()\n",
    "model = model.fit(X, ic2)\n",
    "model.summary()\n",
    "x = np.linspace(-20, 40, 1000)\n",
    "X1 = np.empty(shape = (x.shape[0], 2))\n",
    "X1[:, 1] = x\n",
    "X1[:, 0] = np.ones(shape= x.shape)\n",
    "y = model.predict(X1)\n",
    "plt.plot(x, y)\n",
    "plt.scatter(t2, ic2)\n",
    "plt.show()"
   ]
  },
  {
   "cell_type": "markdown",
   "metadata": {
    "deletable": true,
    "editable": true
   },
   "source": [
    "Наконец, обучите модель на предсказание потребления мороженного в зависимости от всех переменных.\n",
    "Не забудьте, что для года нужно ввести две переменных.\n",
    "Для полученной модели выведите `summary`."
   ]
  },
  {
   "cell_type": "markdown",
   "metadata": {
    "deletable": true,
    "editable": true
   },
   "source": [
    "ДЛя второго кода точки лежат очень близко к прямой, то есть хорошо построилии регр модели. Для первого года чуть хуже, для нулевого - еще хуже."
   ]
  },
  {
   "cell_type": "code",
   "execution_count": 485,
   "metadata": {
    "collapsed": false,
    "deletable": true,
    "editable": true
   },
   "outputs": [
    {
     "name": "stdout",
     "output_type": "stream",
     "text": [
      "Linear regression on 7 features and 30 examples\n",
      "Sigma: 0.001024\n",
      "\t\tLower\t\tEstimation\tUpper\n",
      "theta_0:\t0.107657\t0.717753\t1.327849\n",
      "theta_1:\t0.003801\t0.005654\t0.007507\n",
      "theta_2:\t-0.000852\t0.038141\t0.077134\n",
      "theta_3:\t0.045224\t0.117733\t0.190242\n",
      "theta_4:\t-2.467091\t-0.659296\t1.148500\n",
      "theta_5:\t-0.007774\t-0.003231\t0.001311\n",
      "theta_6:\t-0.000886\t-0.000024\t0.000838\n"
     ]
    }
   ],
   "source": [
    "ic = np.array(data[\"IC\"], dtype=float)\n",
    "t = np.array(data[\"temp\"], dtype=float)\n",
    "year = np.array(data[\"Year\"], dtype=int)\n",
    "income = np.array(data[\"income\"])\n",
    "lt = np.array(data[\"Lag-temp\"])\n",
    "price = np.array(data[\"price\"])\n",
    "t = (t - 32) / 1.8\n",
    "ic = ic.reshape(ic.shape[0], 1)\n",
    "year1 = [1 if value == 1 else 0 for value in year]\n",
    "year2 = [1 if value == 2 else 0 for value in year]\n",
    "intercept = np.ones(shape = t.shape)\n",
    "X = np.empty(shape = (t.shape[0], 7))\n",
    "X[:, 6] = lt\n",
    "X[:, 5] = income\n",
    "X[:, 4] = price\n",
    "X[:, 3] = year2\n",
    "X[:, 2] = year1\n",
    "X[:, 1] = t\n",
    "X[:, 0] = intercept\n",
    "model = LinearRegression()\n",
    "model = model.fit(X, ic)\n",
    "model.summary()"
   ]
  },
  {
   "cell_type": "markdown",
   "metadata": {
    "deletable": true,
    "editable": true
   },
   "source": [
    "Но это еще не все.\n",
    "Постройте теперь линейную регрессию для модели $ic = \\theta_1 + \\theta_2\\ t + \\theta_3\\ t^2 + \\theta_4\\ t^3$.\n",
    "Выведите для нее summary и постройте график предсказания, то есть график кривой $ic = \\widehat{\\theta}_1 + \\widehat{\\theta}_2\\ t + \\widehat{\\theta}_3\\ t^2 + \\widehat{\\theta}_4\\ t^3$. Хорошие ли получаются результаты?"
   ]
  },
  {
   "cell_type": "code",
   "execution_count": 494,
   "metadata": {
    "collapsed": false,
    "deletable": true,
    "editable": true
   },
   "outputs": [
    {
     "name": "stdout",
     "output_type": "stream",
     "text": [
      "Linear regression on 4 features and 30 examples\n",
      "Sigma: 0.001529\n",
      "\t\tLower\t\tEstimation\tUpper\n",
      "theta_0:\t0.295294\t0.319902\t0.344510\n",
      "theta_1:\t0.000388\t0.007200\t0.014013\n",
      "theta_2:\t-0.001861\t-0.000855\t0.000152\n",
      "theta_3:\t0.000002\t0.000038\t0.000073\n"
     ]
    },
    {
     "data": {
      "image/png": "[encoded data removed]",
      "text/plain": [
       "<matplotlib.figure.Figure at 0x7f94f1d16940>"
      ]
     },
     "metadata": {},
     "output_type": "display_data"
    }
   ],
   "source": [
    "data = pandas.read_csv(\"ice_cream.txt\", sep='\\t')\n",
    "ic = np.array(data[\"IC\"], dtype=float)\n",
    "t = np.array(data[\"temp\"], dtype=float)\n",
    "t = (t - 32) / 1.8\n",
    "t_2 = t ** 2\n",
    "t_3 = t ** 3\n",
    "ic = ic.reshape(ic.shape[0], 1)\n",
    "intercept = np.ones(shape = t.shape)\n",
    "X = np.empty(shape = (t.shape[0], 4))\n",
    "X[:, 3] = t_3\n",
    "X[:, 2] = t_2\n",
    "X[:, 1] = t\n",
    "X[:, 0] = intercept\n",
    "model = LinearRegression()\n",
    "model = model.fit(X, ic)\n",
    "model.summary()\n",
    "x = np.linspace(-20, 40, 1000)\n",
    "X1 = np.empty(shape = (x.shape[0], 4))\n",
    "X1[:, 3] = x ** 3\n",
    "X1[:, 2] = x ** 2\n",
    "X1[:, 1] = x\n",
    "X1[:, 0] = np.ones(shape= x.shape)\n",
    "y = model.predict(X1)\n",
    "plt.figure(figsize=(12,5))\n",
    "plt.plot(x, y)\n",
    "plt.scatter(t, ic)\n",
    "plt.ylim(0,1)\n",
    "plt.show()\n"
   ]
  },
  {
   "cell_type": "markdown",
   "metadata": {
    "deletable": true,
    "editable": true
   },
   "source": [
    "Вывод: результаты получились хорошие. ТОчки почти лежат на графике."
   ]
  },
  {
   "cell_type": "markdown",
   "metadata": {
    "deletable": true,
    "editable": true
   },
   "source": [
    "Чтобы понять, почему так происходит, выведите значения матрицы $(X^T X)^{-1}$ для данной матрицы и посчитайте для нее индекс обусловленности $\\sqrt{\\left.\\lambda_{max}\\right/\\lambda_{min}}$, где $\\lambda_{max}, \\lambda_{min}$ --- максимальный и минимальный собственные значения матрицы $X^T X$. Собственные значения можно посчитать функцией <a href=\"https://docs.scipy.org/doc/scipy/reference/generated/scipy.linalg.eigvals.html\">`scipy.linalg.eigvals`</a>.\n",
    "\n",
    "Прокомментируйте полученные результаты. Помочь в этом может следующая <a href=\"https://ru.wikipedia.org/wiki/%D0%A7%D0%B8%D1%81%D0%BB%D0%BE_%D0%BE%D0%B1%D1%83%D1%81%D0%BB%D0%BE%D0%B2%D0%BB%D0%B5%D0%BD%D0%BD%D0%BE%D1%81%D1%82%D0%B8\">статья</a>."
   ]
  },
  {
   "cell_type": "code",
   "execution_count": 491,
   "metadata": {
    "collapsed": false,
    "deletable": true,
    "editable": true
   },
   "outputs": [
    {
     "data": {
      "text/plain": [
       "(8140.3947488960366+0j)"
      ]
     },
     "execution_count": 491,
     "metadata": {},
     "output_type": "execute_result"
    }
   ],
   "source": [
    "eigvals = slin.eigvals(np.linalg.inv(X.T @ X))\n",
    "(eigvals.max() / eigvals.min()) ** (0.5)"
   ]
  },
  {
   "cell_type": "code",
   "execution_count": 492,
   "metadata": {
    "collapsed": false,
    "deletable": true,
    "editable": true
   },
   "outputs": [
    {
     "data": {
      "text/plain": [
       "array([  9.396e-02+0.j,   7.102e-03+0.j,   2.977e-05+0.j,   1.418e-09+0.j])"
      ]
     },
     "execution_count": 492,
     "metadata": {},
     "output_type": "execute_result"
    }
   ],
   "source": [
    "eigvals #для обратной"
   ]
  },
  {
   "cell_type": "markdown",
   "metadata": {
    "deletable": true,
    "editable": true
   },
   "source": [
    "Вывод: мы получили, что ипнедкс обусловленности очень большой (идеальный = 1), поэтому реешние уравнения X^tXTH=X^Ty имеет большую погрешность. Значит матрица Х^TX - плохо обусловленная."
   ]
  },
  {
   "cell_type": "markdown",
   "metadata": {
    "deletable": true,
    "editable": true
   },
   "source": [
    "**Задача 2.** В данной задаче нужно реализовать функцию отбора признаков для линейной регрессии. Иначе говоря, пусть есть модель $y = \\theta_1 x_1 + ... + \\theta_k x_k$. Нужно определить, какие $\\theta_j$ нужно положить равными нулю, чтобы качество полученной модели было максимальным.\n",
    "\n",
    "Для этого имеющиеся данные нужно случайно разделить на две части --- обучение и тест (train и test). На первой части нужно обучить модель регресии, взяв некоторые из признаков, то есть рассмотреть модель $y = \\theta_{j_1} x_{j_1} + ... + \\theta_{j_s} x_{j_s}$. По второй части нужно посчитать ее качество --- среднеквадратичное отклонение (mean squared error) предсказания от истинного значения отклика, то есть величину\n",
    "$$MSE = \\sum\\limits_{i \\in test} \\left(\\widehat{y}(x_i) - Y_i\\right)^2,$$\n",
    "где $x_i = (x_{i,1}, ..., x_{i,k})$, $Y_i$ --- отклик на объекте $x_i$, а $\\widehat{y}(x)$ --- оценка отклика на объекте $x$.\n",
    "\n",
    "Если $k$ невелико, то подобным образом можно перебрать все поднаборы признаков и выбрать наилучший по значению MSE.\n",
    "\n",
    "Для выполнения задания воспользуйтесь следующими функциями:\n",
    "* <a href=\"http://scikit-learn.org/stable/modules/generated/sklearn.linear_model.LinearRegression.html#sklearn.linear_model.LinearRegression\">`sklearn.linear_model.LinearRegression`</a>\n",
    "--- реализация линейной регрессии. В данной реализации свободный параметр $\\theta_1$ по умолчанию автоматически включается в модель. Отключить это можно с помощью `fit_intercept=False`, но это не нужно. *В данной задаче требуется, чтобы вы воспользовались готовой реализацией линейной регрессии, а не своей. Ведь на практике важно уметь применять готовые реализации, а не писать их самостоятельно.*\n",
    "\n",
    "* <a href=\"http://scikit-learn.org/0.16/modules/generated/sklearn.cross_validation.train_test_split.html\">`sklearn.cross_validation.train_test_split`</a>\n",
    "--- функция разбиения данных на train и test. Установите параметр `test_size=0.3`.\n",
    "\n",
    "* <a href=\"http://scikit-learn.org/stable/modules/generated/sklearn.metrics.mean_squared_error.html\">`sklearn.metrics.mean_squared_error`</a>\n",
    "--- реализация MSE.\n",
    "\n",
    "Для перебора реализуйте функцию."
   ]
  },
  {
   "cell_type": "code",
   "execution_count": 479,
   "metadata": {
    "collapsed": false,
    "deletable": true,
    "editable": true
   },
   "outputs": [
    {
     "name": "stderr",
     "output_type": "stream",
     "text": [
      "/usr/local/lib/python3.5/dist-packages/sklearn/cross_validation.py:44: DeprecationWarning: This module was deprecated in version 0.18 in favor of the model_selection module into which all the refactored classes and functions are moved. Also note that the interface of the new CV iterators are different from that of this module. This module will be removed in 0.20.\n",
      "  \"This module will be removed in 0.20.\", DeprecationWarning)\n"
     ]
    }
   ],
   "source": [
    "from sklearn.datasets import load_boston\n",
    "from sklearn.cross_validation import train_test_split\n",
    "from sklearn import linear_model\n",
    "from sklearn.metrics import mean_squared_error "
   ]
  },
  {
   "cell_type": "code",
   "execution_count": 177,
   "metadata": {
    "collapsed": true,
    "deletable": true,
    "editable": true
   },
   "outputs": [],
   "source": [
    "def best_features(X_train, X_test, Y_train, Y_test):\n",
    "    mses = []  # сюда записывайте значения MSE\n",
    "    k = X_train.shape[1]\n",
    "\n",
    "    for j in range(1, 2 ** k):  # номер набора признаков\n",
    "        mask = np.array([j & (1 << s) for s in range(k)], dtype=bool)\n",
    "        features_numbers = np.arange(k)[mask]  # набор признаков\n",
    "        \n",
    "        X_train_temp = X_train[:, features_numbers]\n",
    "        X_test_temp = X_test[:, features_numbers]\n",
    "        model = linear_model.LinearRegression()\n",
    "        model = model.fit(X_train_temp, Y_train)\n",
    "        mse = mean_squared_error(Y_test, model.predict(X_test_temp))\n",
    "        mses.append(mse)\n",
    "        \n",
    "    # Печать 10 лучших наборов\n",
    "    print('mse\\t features')\n",
    "    mses = np.array(mses)\n",
    "    best_numbres = np.argsort(mses)[:10]\n",
    "    for j in best_numbres:\n",
    "        mask = np.array([j & (1 << s) for s in range(k)], dtype=bool)\n",
    "        features_numbers = np.arange(k)[mask]\n",
    "        print('%.3f\\t' % mses[j], features_numbers)"
   ]
  },
  {
   "cell_type": "code",
   "execution_count": 189,
   "metadata": {
    "collapsed": false,
    "deletable": true,
    "editable": true
   },
   "outputs": [
    {
     "name": "stdout",
     "output_type": "stream",
     "text": [
      "Boston_prices\n",
      "mse\t features\n",
      "18.563\t [2 4 5 6]\n",
      "18.594\t [ 2  4  5  6 10]\n",
      "18.603\t [2 5 6]\n",
      "18.608\t [ 2  5  6 10]\n",
      "18.694\t [ 4  5  6 10]\n",
      "18.723\t [4 5 6]\n",
      "18.731\t [ 5  6  7 10]\n",
      "18.740\t [2 3 5 6]\n",
      "18.746\t [ 2  3  5  6 10]\n",
      "18.746\t [ 5  6 10]\n"
     ]
    }
   ],
   "source": [
    "data = load_boston().data\n",
    "X = data[:,range(0, 12)]\n",
    "Y = data[:, 12]\n",
    "X_train, X_test, Y_train, Y_test = train_test_split(X, Y, test_size=0.3)\n",
    "print(\"Boston_prices\")\n",
    "best_features(X_train, X_test, Y_train, Y_test)\n",
    "\n"
   ]
  },
  {
   "cell_type": "code",
   "execution_count": 195,
   "metadata": {
    "collapsed": false,
    "deletable": true,
    "editable": true
   },
   "outputs": [
    {
     "name": "stdout",
     "output_type": "stream",
     "text": [
      "Yachts\n",
      "mse\t features\n",
      "82.609\t [0 5]\n",
      "82.614\t [0 2 5]\n",
      "82.619\t [0 2 4 5]\n",
      "82.622\t [0 4 5]\n",
      "82.634\t [0 3 4 5]\n",
      "82.640\t [0 3 5]\n",
      "82.671\t [0 1 2 3 4]\n",
      "82.681\t [0 1 5]\n",
      "82.688\t [0 2 3 5]\n",
      "82.700\t [0 1 4 5]\n"
     ]
    }
   ],
   "source": [
    "data = pandas.read_csv(\"yacht.txt\", header=None, delim_whitespace=True)\n",
    "data = np.array(data)\n",
    "X = data[:,range(0, 6)]\n",
    "Y = data[:, 6]\n",
    "X_train, X_test, Y_train, Y_test = train_test_split(X, Y, test_size=0.3)\n",
    "print(\"Yachts\")\n",
    "best_features(X_train, X_test, Y_train, Y_test)"
   ]
  },
  {
   "cell_type": "markdown",
   "metadata": {
    "deletable": true,
    "editable": true
   },
   "source": [
    "Примените реализованный отбор признаков к датасетам\n",
    "* <a href=\"http://archive.ics.uci.edu/ml/datasets/Yacht+Hydrodynamics\">Yacht Hydrodynamics</a> --- для парусных яхт нужно оценить остаточное сопротивление на единицу массы смещения (последний столбец) в зависимости от различных характеристик яхты.\n",
    "\n",
    "* <a href=\"http://scikit-learn.org/stable/modules/generated/sklearn.datasets.load_boston.html#sklearn.datasets.load_boston\">Boston Housing Prices</a> --- цены на дома в Бостоне в зависимости от ряда особенностей."
   ]
  },
  {
   "cell_type": "markdown",
   "metadata": {
    "deletable": true,
    "editable": true
   },
   "source": [
    "**Задача 3<font size=\"5\" color=\"red\">\\*</font>.** Загрузите <a href=\"http://people.sc.fsu.edu/~jburkardt/datasets/regression/x01.txt\">датасет</a>, в котором показана зависимость веса мозга от веса туловища для некоторых видов млекопитающих. Задача состоит в том, чтобы подобрать по этим данным хорошую модель регрессии. Для этого, можно попробовать взять некоторые функции от значения веса туловища, например, степенную, показательную, логарифмическую. Можно также сделать преобразование значений веса мозга, например, прологарифмировать. Кроме того, можно разбить значения веса туловища на несколько частей и на каждой части строить свою модель линейной регрессии."
   ]
  },
  {
   "cell_type": "markdown",
   "metadata": {
    "deletable": true,
    "editable": true
   },
   "source": [
    "**Задача 4.** Пусть $X_1, ..., X_n$ --- выборка из распределения $\\mathcal{N}(a, \\sigma^2)$. Постройте точную доверительную область для параметра $\\theta = (a, \\sigma^2)$ уровня доверия $\\alpha=0.95$ для сгенерированной выборки размера $n \\in \\{5, 20, 50\\}$ из стандартного нормального распределения. Какой вывод можно сделать?"
   ]
  },
  {
   "cell_type": "code",
   "execution_count": 231,
   "metadata": {
    "collapsed": false,
    "deletable": true,
    "editable": true
   },
   "outputs": [],
   "source": [
    "def draw_conf(X, alpha = 0.95 ** 0.5):\n",
    "    n = X.size\n",
    "    mean = X.mean()\n",
    "    S = ((X - mean) ** 2 / n).sum()\n",
    "    z1 = sps.chi2.ppf((1 + alpha) / 2, df = n - 1)\n",
    "    z2 = sps.chi2.ppf((1 - alpha) / 2, df = n - 1)\n",
    "    x1 = sps.norm.ppf((1 + alpha) / 2)\n",
    "    theta2 = (n * S / z2)\n",
    "    theta1 = (n * S / z1)\n",
    "    x = np.linspace(-3, 3, 1000)\n",
    "    y = ((x - mean) * (n ** (0.5)) / x1) ** 2\n",
    "    plt.plot(x, y)\n",
    "    lines = np.linspace(theta1, theta2, 1000)\n",
    "    plt.scatter(0, 1, color = 'black')\n",
    "    for temp in lines:\n",
    "        v = (temp / n) ** 0.5 * x1 \n",
    "        plt.hlines(temp, -v + mean, v + mean, color = 'yellow', alpha = 0.1)\n",
    "    plt.hlines(theta1, xmax = 4, xmin = -4)\n",
    "    plt.hlines(theta2, xmax = 4, xmin = -4)\n",
    "    plt.ylim((theta1 - 0.5, theta2 + 0.5))\n",
    "    plt.show()\n",
    "    "
   ]
  },
  {
   "cell_type": "code",
   "execution_count": 232,
   "metadata": {
    "collapsed": false,
    "deletable": true,
    "editable": true
   },
   "outputs": [
    {
     "data": {
      "image/png": "[encoded data removed]",
      "text/plain": [
       "<matplotlib.figure.Figure at 0x7fb691214b38>"
      ]
     },
     "metadata": {},
     "output_type": "display_data"
    }
   ],
   "source": [
    "sample = sps.norm.rvs(size = 5, loc = 0)\n",
    "draw_conf(sample)\n"
   ]
  },
  {
   "cell_type": "code",
   "execution_count": 233,
   "metadata": {
    "collapsed": false,
    "deletable": true,
    "editable": true
   },
   "outputs": [
    {
     "data": {
      "image/png": "[encoded data removed]",
      "text/plain": [
       "<matplotlib.figure.Figure at 0x7fb68e279320>"
      ]
     },
     "metadata": {},
     "output_type": "display_data"
    }
   ],
   "source": [
    "sample = sps.norm.rvs(size = 10, loc = 0)\n",
    "draw_conf(sample)"
   ]
  },
  {
   "cell_type": "code",
   "execution_count": 234,
   "metadata": {
    "collapsed": false,
    "deletable": true,
    "editable": true
   },
   "outputs": [
    {
     "data": {
      "image/png": "[encoded data removed]",
      "text/plain": [
       "<matplotlib.figure.Figure at 0x7fb68e279518>"
      ]
     },
     "metadata": {},
     "output_type": "display_data"
    }
   ],
   "source": [
    "sample = sps.norm.rvs(size = 20, loc = 0)\n",
    "draw_conf(sample)"
   ]
  },
  {
   "cell_type": "markdown",
   "metadata": {
    "deletable": true,
    "editable": true
   },
   "source": [
    "**Задача 5<font size=\"5\" color=\"red\">\\*</font>.** \n",
    "Пусть дана линейная гауссовская модель $Y = X\\theta + \\varepsilon$, где $\\varepsilon \\sim \\mathcal{N}(0, \\beta^{-1}I_n)$.\n",
    "Пусть $\\theta$ имеет априорное распределение $\\mathcal{N}(0, \\alpha^{-1}I_k)$. \n",
    "Такая постановка задачи соответствует Ridge-регрессии.\n",
    "Оценкой параметров будет математическое ожидание по апостериорному распределению, аналогично можно получить доверительный интервал.\n",
    "Кроме того, с помощью апостериорного распределения можно получить доверительный интервал для отклика на новом объекте, а не только точечную оценку.\n",
    "\n",
    "Реализуйте класс RidgeRegression подобно классу LinearRegression, но добавьте в него так же возможность получения доверительного интервала для отклика на новом объекте.\n",
    "Примените модель к некоторых датасетам, которые рассматривались в предыдущих задачах.\n",
    "Нарисуйте графики оценки отклика на новом объекте и доверительные интервалы для него."
   ]
  },
  {
   "cell_type": "markdown",
   "metadata": {
    "deletable": true,
    "editable": true
   },
   "source": [
    "## 2. Проверка статистических гипотез"
   ]
  },
  {
   "cell_type": "markdown",
   "metadata": {
    "deletable": true,
    "editable": true
   },
   "source": [
    "**Задача 6.** \n",
    "Существует примета, что если перед вам дорогу перебегает черный кот, то скоро случится неудача. \n",
    "Вы же уже достаточно хорошо знаете статистику и хотите проверить данную примету. \n",
    "Сформулируем задачу на математическом языке. \n",
    "Пусть $X_1, ..., X_n \\sim Bern(p)$ --- проведенные наблюдения, где $X_i = 1$, если в $i$-м испытании случилась неудача после того, как черный кот перебежал дорогу, а $p$ --- неизвестная вероятность такого события. \n",
    "Нужно проверить гипотезу $H_0: p=1/2$ (отсутствие связи между черным котом и неудачей) против альтернативы $H_1: p>1/2$ (неудача происходит чаще если черный кот перебегает дорогу).\n",
    "\n",
    "Известно, что $S = \\left\\{T(X) > c_\\alpha\\right\\}$, где $T(X) = \\sum X_i$, является равномерно наиболее мощным критерием для данной задачи. \n",
    "Чему при этом равно $c_\\alpha$?\n",
    "При этом p-value в данной задаче определяется как $p(t) = \\mathsf{P}_{0.5}(T(X) > t)$, где $t = \\sum x_i$ --- реализация статистики $T(X)$.\n",
    "\n",
    "Для начала проверьте, что критерий работает.\n",
    "Возьмите несколько значений $n$ и реализаций статистики $T(X)$.\n",
    "В каждом случае найдите значение $c_\\alpha$ и p-value.\n",
    "Оформите это в виде таблицы.\n",
    "\n",
    "Пользуйтесь функциями из `scipy.stats`, про которые подробно написано в файле `python_5`. Внимательно проверьте правильность строгих и нестрогих знаков."
   ]
  },
  {
   "cell_type": "code",
   "execution_count": null,
   "metadata": {
    "collapsed": true
   },
   "outputs": [],
   "source": []
  },
  {
   "cell_type": "code",
   "execution_count": 30,
   "metadata": {
    "collapsed": false,
    "deletable": true,
    "editable": true,
    "scrolled": true
   },
   "outputs": [],
   "source": [
    "N = 10000\n",
    "sample = sps.bernoulli.rvs(size=N, p=0.5)\n",
    "T = sample.cumsum()\n",
    "sample_size = np.arange(1, N + 1)\n",
    "c_alpha = sps.binom.ppf(q=0.95, n=sample_size, p=0.5) \n",
    "p_value = sps.binom.sf(T, n=sample_size, p=0.5)"
   ]
  },
  {
   "cell_type": "code",
   "execution_count": 31,
   "metadata": {
    "collapsed": false,
    "deletable": true,
    "editable": true
   },
   "outputs": [
    {
     "data": {
      "text/html": [
       "<div>\n",
       "<table border=\"1\" class=\"dataframe\">\n",
       "  <thead>\n",
       "    <tr style=\"text-align: right;\">\n",
       "      <th></th>\n",
       "      <th>$C_{alpha}$</th>\n",
       "      <th>N</th>\n",
       "      <th>p-value</th>\n",
       "    </tr>\n",
       "  </thead>\n",
       "  <tbody>\n",
       "    <tr>\n",
       "      <th>0</th>\n",
       "      <td>8.0</td>\n",
       "      <td>10</td>\n",
       "      <td>0.623047</td>\n",
       "    </tr>\n",
       "    <tr>\n",
       "      <th>1</th>\n",
       "      <td>31.0</td>\n",
       "      <td>50</td>\n",
       "      <td>0.443862</td>\n",
       "    </tr>\n",
       "    <tr>\n",
       "      <th>2</th>\n",
       "      <td>58.0</td>\n",
       "      <td>100</td>\n",
       "      <td>0.460205</td>\n",
       "    </tr>\n",
       "    <tr>\n",
       "      <th>3</th>\n",
       "      <td>268.0</td>\n",
       "      <td>500</td>\n",
       "      <td>0.251187</td>\n",
       "    </tr>\n",
       "    <tr>\n",
       "      <th>4</th>\n",
       "      <td>526.0</td>\n",
       "      <td>1000</td>\n",
       "      <td>0.512613</td>\n",
       "    </tr>\n",
       "    <tr>\n",
       "      <th>5</th>\n",
       "      <td>5082.0</td>\n",
       "      <td>10000</td>\n",
       "      <td>0.125071</td>\n",
       "    </tr>\n",
       "  </tbody>\n",
       "</table>\n",
       "</div>"
      ],
      "text/plain": [
       "   $C_{alpha}$      N   p-value\n",
       "0          8.0     10  0.623047\n",
       "1         31.0     50  0.443862\n",
       "2         58.0    100  0.460205\n",
       "3        268.0    500  0.251187\n",
       "4        526.0   1000  0.512613\n",
       "5       5082.0  10000  0.125071"
      ]
     },
     "execution_count": 31,
     "metadata": {},
     "output_type": "execute_result"
    }
   ],
   "source": [
    "num = np.array([10, 50, 100, 500, 1000, 10000])\n",
    "data = {\"N\": num, \"$C_{alpha}$\": c_alpha[num - 1], \"p-value\": p_value[num - 1] }\n",
    "table = DataFrame(data=data)\n",
    "table"
   ]
  },
  {
   "cell_type": "markdown",
   "metadata": {
    "deletable": true,
    "editable": true
   },
   "source": [
    "Для каких истинных значений $p$ с точки зрения практики можно считать, что связь между черным котом и неудачей есть? \n",
    "Теперь сгенерируйте 10 выборок для двух случаев: 1). $n=5, p=0.75$; 2). $n=10^5, p=0.51$. \n",
    "В каждом случае в виде таблицы выведите реализацию статистики $T(X)$, соответствующее p-value и 0/1 - отвергается ли $H_0$ (выводите 1, если отвергается).\n",
    "Какие выводы можно сделать?"
   ]
  },
  {
   "cell_type": "code",
   "execution_count": 89,
   "metadata": {
    "collapsed": false,
    "deletable": true,
    "editable": true
   },
   "outputs": [
    {
     "data": {
      "text/html": [
       "<div>\n",
       "<table border=\"1\" class=\"dataframe\">\n",
       "  <thead>\n",
       "    <tr style=\"text-align: right;\">\n",
       "      <th></th>\n",
       "      <th>$H_0$</th>\n",
       "      <th>$T(X)$</th>\n",
       "      <th>p_value</th>\n",
       "    </tr>\n",
       "  </thead>\n",
       "  <tbody>\n",
       "    <tr>\n",
       "      <th>0</th>\n",
       "      <td>0</td>\n",
       "      <td>3</td>\n",
       "      <td>0.18750</td>\n",
       "    </tr>\n",
       "    <tr>\n",
       "      <th>1</th>\n",
       "      <td>0</td>\n",
       "      <td>3</td>\n",
       "      <td>0.18750</td>\n",
       "    </tr>\n",
       "    <tr>\n",
       "      <th>2</th>\n",
       "      <td>1</td>\n",
       "      <td>5</td>\n",
       "      <td>0.00000</td>\n",
       "    </tr>\n",
       "    <tr>\n",
       "      <th>3</th>\n",
       "      <td>0</td>\n",
       "      <td>4</td>\n",
       "      <td>0.03125</td>\n",
       "    </tr>\n",
       "    <tr>\n",
       "      <th>4</th>\n",
       "      <td>0</td>\n",
       "      <td>1</td>\n",
       "      <td>0.81250</td>\n",
       "    </tr>\n",
       "    <tr>\n",
       "      <th>5</th>\n",
       "      <td>0</td>\n",
       "      <td>3</td>\n",
       "      <td>0.18750</td>\n",
       "    </tr>\n",
       "    <tr>\n",
       "      <th>6</th>\n",
       "      <td>0</td>\n",
       "      <td>4</td>\n",
       "      <td>0.03125</td>\n",
       "    </tr>\n",
       "    <tr>\n",
       "      <th>7</th>\n",
       "      <td>1</td>\n",
       "      <td>5</td>\n",
       "      <td>0.00000</td>\n",
       "    </tr>\n",
       "    <tr>\n",
       "      <th>8</th>\n",
       "      <td>0</td>\n",
       "      <td>3</td>\n",
       "      <td>0.18750</td>\n",
       "    </tr>\n",
       "    <tr>\n",
       "      <th>9</th>\n",
       "      <td>1</td>\n",
       "      <td>5</td>\n",
       "      <td>0.00000</td>\n",
       "    </tr>\n",
       "  </tbody>\n",
       "</table>\n",
       "</div>"
      ],
      "text/plain": [
       "   $H_0$  $T(X)$  p_value\n",
       "0      0       3  0.18750\n",
       "1      0       3  0.18750\n",
       "2      1       5  0.00000\n",
       "3      0       4  0.03125\n",
       "4      0       1  0.81250\n",
       "5      0       3  0.18750\n",
       "6      0       4  0.03125\n",
       "7      1       5  0.00000\n",
       "8      0       3  0.18750\n",
       "9      1       5  0.00000"
      ]
     },
     "execution_count": 89,
     "metadata": {},
     "output_type": "execute_result"
    }
   ],
   "source": [
    "sample = sps.bernoulli.rvs(size=(10, 5), p=0.75)\n",
    "T = sample.sum(axis=1)\n",
    "c = sps.binom.ppf(q=0.95, n=5, p=0.5)\n",
    "p_values = sps.binom.sf(T, n=5, p=0.5)\n",
    "res = [1 if st > c else 0 for st in T]\n",
    "d = {\"$T(X)$\": T, \"p_value\": p_values, \"$H_0$\": res}\n",
    "data = DataFrame(data=d)\n",
    "data"
   ]
  },
  {
   "cell_type": "code",
   "execution_count": 97,
   "metadata": {
    "collapsed": false,
    "deletable": true,
    "editable": true
   },
   "outputs": [
    {
     "data": {
      "text/html": [
       "<div>\n",
       "<table border=\"1\" class=\"dataframe\">\n",
       "  <thead>\n",
       "    <tr style=\"text-align: right;\">\n",
       "      <th></th>\n",
       "      <th>$H_0$</th>\n",
       "      <th>$T(X)$</th>\n",
       "      <th>p_value</th>\n",
       "    </tr>\n",
       "  </thead>\n",
       "  <tbody>\n",
       "    <tr>\n",
       "      <th>0</th>\n",
       "      <td>1</td>\n",
       "      <td>51203</td>\n",
       "      <td>1.349814e-14</td>\n",
       "    </tr>\n",
       "    <tr>\n",
       "      <th>1</th>\n",
       "      <td>1</td>\n",
       "      <td>51081</td>\n",
       "      <td>3.952269e-12</td>\n",
       "    </tr>\n",
       "    <tr>\n",
       "      <th>2</th>\n",
       "      <td>1</td>\n",
       "      <td>51109</td>\n",
       "      <td>1.130366e-12</td>\n",
       "    </tr>\n",
       "    <tr>\n",
       "      <th>3</th>\n",
       "      <td>1</td>\n",
       "      <td>50585</td>\n",
       "      <td>1.065046e-04</td>\n",
       "    </tr>\n",
       "    <tr>\n",
       "      <th>4</th>\n",
       "      <td>1</td>\n",
       "      <td>50898</td>\n",
       "      <td>6.626865e-09</td>\n",
       "    </tr>\n",
       "    <tr>\n",
       "      <th>5</th>\n",
       "      <td>1</td>\n",
       "      <td>50625</td>\n",
       "      <td>3.809839e-05</td>\n",
       "    </tr>\n",
       "    <tr>\n",
       "      <th>6</th>\n",
       "      <td>1</td>\n",
       "      <td>51167</td>\n",
       "      <td>7.665887e-14</td>\n",
       "    </tr>\n",
       "    <tr>\n",
       "      <th>7</th>\n",
       "      <td>1</td>\n",
       "      <td>51005</td>\n",
       "      <td>1.011732e-10</td>\n",
       "    </tr>\n",
       "    <tr>\n",
       "      <th>8</th>\n",
       "      <td>1</td>\n",
       "      <td>51106</td>\n",
       "      <td>1.294508e-12</td>\n",
       "    </tr>\n",
       "    <tr>\n",
       "      <th>9</th>\n",
       "      <td>1</td>\n",
       "      <td>50897</td>\n",
       "      <td>6.876495e-09</td>\n",
       "    </tr>\n",
       "  </tbody>\n",
       "</table>\n",
       "</div>"
      ],
      "text/plain": [
       "   $H_0$  $T(X)$       p_value\n",
       "0      1   51203  1.349814e-14\n",
       "1      1   51081  3.952269e-12\n",
       "2      1   51109  1.130366e-12\n",
       "3      1   50585  1.065046e-04\n",
       "4      1   50898  6.626865e-09\n",
       "5      1   50625  3.809839e-05\n",
       "6      1   51167  7.665887e-14\n",
       "7      1   51005  1.011732e-10\n",
       "8      1   51106  1.294508e-12\n",
       "9      1   50897  6.876495e-09"
      ]
     },
     "execution_count": 97,
     "metadata": {},
     "output_type": "execute_result"
    }
   ],
   "source": [
    "sample = sps.bernoulli.rvs(size=(10, 10 ** 5), p=0.51)\n",
    "T = sample.sum(axis=1)\n",
    "c = sps.binom.ppf(q=0.95, n=10 ** 5, p=0.5)\n",
    "p_values = sps.binom.sf(T, n=10 ** 5, p=0.5)\n",
    "res = [1 if st > c else 0 for st in T]\n",
    "d = {\"$T(X)$\": T, \"p_value\": p_values, \"$H_0$\": res}\n",
    "data = DataFrame(data=d)\n",
    "data"
   ]
  },
  {
   "cell_type": "markdown",
   "metadata": {
    "deletable": true,
    "editable": true
   },
   "source": [
    "Возникает задача подбора оптимального размера выборки.\n",
    "\n",
    "Для этого сначала зафиксируйте значение $p^* > 1/2$, которое будет обладать следующим свойством.\n",
    "Если истинное $p > p^*$, то такое отклонение от $1/2$ с практической точки зрения признается существенным, то есть действительно чаще случается неудача после того, как черный кот перебегает дорогу.\n",
    "В противном случае отклонение с практической точки зрения признается несущественным.\n",
    "\n",
    "Теперь для некоторых $n$ постройте графики функции мощности критерия при $1/2 < p < 1$ и уровне значимости 0.05.\n",
    "Выберите такое $n^*$, для которого функция мощности дает значение 0.8 при $p^*$.\n",
    "Для выбранного $n^*$ проведите эксперимент, аналогичный проведенным ранее экспериментам, сгенерировав выборки для следующих истинных значений $p$: 1). $1/2 < p < p^*$; 2). $p > p^*$.\n",
    "Сделайте вывод."
   ]
  },
  {
   "cell_type": "code",
   "execution_count": 202,
   "metadata": {
    "collapsed": false,
    "deletable": true,
    "editable": true
   },
   "outputs": [
    {
     "data": {
      "image/png": "[encoded data removed]",
      "text/plain": [
       "<matplotlib.figure.Figure at 0x7f94f68eb588>"
      ]
     },
     "metadata": {},
     "output_type": "display_data"
    }
   ],
   "source": [
    "n = np.array(object=[10, 25, 75, 100, 159, 200])\n",
    "p_star = 0.6\n",
    "p = np.linspace(0.5, 1, 1000)\n",
    "for i in range(n.size):\n",
    "    c = sps.binom.ppf(q=0.95, n=n[i], p=0.5)\n",
    "    beta = sps.binom.sf(c, n=n[i], p=p)\n",
    "    plt.plot(p, beta, label=(\"n = {}\", i))\n",
    "plt.legend()\n",
    "plt.grid()\n",
    "plt.show()"
   ]
  },
  {
   "cell_type": "code",
   "execution_count": 201,
   "metadata": {
    "collapsed": false,
    "deletable": true,
    "editable": true
   },
   "outputs": [
    {
     "data": {
      "text/html": [
       "<div>\n",
       "<table border=\"1\" class=\"dataframe\">\n",
       "  <thead>\n",
       "    <tr style=\"text-align: right;\">\n",
       "      <th></th>\n",
       "      <th>$H_0$</th>\n",
       "      <th>$T(X)$</th>\n",
       "      <th>p_value</th>\n",
       "    </tr>\n",
       "  </thead>\n",
       "  <tbody>\n",
       "    <tr>\n",
       "      <th>0</th>\n",
       "      <td>0</td>\n",
       "      <td>76</td>\n",
       "      <td>0.682833</td>\n",
       "    </tr>\n",
       "    <tr>\n",
       "      <th>1</th>\n",
       "      <td>0</td>\n",
       "      <td>86</td>\n",
       "      <td>0.133413</td>\n",
       "    </tr>\n",
       "    <tr>\n",
       "      <th>2</th>\n",
       "      <td>0</td>\n",
       "      <td>85</td>\n",
       "      <td>0.170647</td>\n",
       "    </tr>\n",
       "    <tr>\n",
       "      <th>3</th>\n",
       "      <td>0</td>\n",
       "      <td>86</td>\n",
       "      <td>0.133413</td>\n",
       "    </tr>\n",
       "    <tr>\n",
       "      <th>4</th>\n",
       "      <td>0</td>\n",
       "      <td>88</td>\n",
       "      <td>0.076607</td>\n",
       "    </tr>\n",
       "    <tr>\n",
       "      <th>5</th>\n",
       "      <td>1</td>\n",
       "      <td>91</td>\n",
       "      <td>0.028328</td>\n",
       "    </tr>\n",
       "    <tr>\n",
       "      <th>6</th>\n",
       "      <td>0</td>\n",
       "      <td>84</td>\n",
       "      <td>0.213920</td>\n",
       "    </tr>\n",
       "    <tr>\n",
       "      <th>7</th>\n",
       "      <td>0</td>\n",
       "      <td>86</td>\n",
       "      <td>0.133413</td>\n",
       "    </tr>\n",
       "    <tr>\n",
       "      <th>8</th>\n",
       "      <td>0</td>\n",
       "      <td>83</td>\n",
       "      <td>0.262962</td>\n",
       "    </tr>\n",
       "    <tr>\n",
       "      <th>9</th>\n",
       "      <td>0</td>\n",
       "      <td>89</td>\n",
       "      <td>0.056215</td>\n",
       "    </tr>\n",
       "  </tbody>\n",
       "</table>\n",
       "</div>"
      ],
      "text/plain": [
       "   $H_0$  $T(X)$   p_value\n",
       "0      0      76  0.682833\n",
       "1      0      86  0.133413\n",
       "2      0      85  0.170647\n",
       "3      0      86  0.133413\n",
       "4      0      88  0.076607\n",
       "5      1      91  0.028328\n",
       "6      0      84  0.213920\n",
       "7      0      86  0.133413\n",
       "8      0      83  0.262962\n",
       "9      0      89  0.056215"
      ]
     },
     "execution_count": 201,
     "metadata": {},
     "output_type": "execute_result"
    }
   ],
   "source": [
    "N = 159\n",
    "sample = sps.bernoulli.rvs(size=(10, N), p=0.55)\n",
    "T = sample.sum(axis=1)\n",
    "c = sps.binom.ppf(q=0.95, n=N, p=0.5)\n",
    "p_values = sps.binom.sf(T, n=N, p=0.5)\n",
    "res = [1 if st > c else 0 for st in T]\n",
    "d = {\"$T(X)$\": T, \"p_value\": p_values, \"$H_0$\": res}\n",
    "data = DataFrame(data=d)\n",
    "data"
   ]
  },
  {
   "cell_type": "code",
   "execution_count": 189,
   "metadata": {
    "collapsed": false,
    "deletable": true,
    "editable": true
   },
   "outputs": [
    {
     "data": {
      "text/html": [
       "<div>\n",
       "<table border=\"1\" class=\"dataframe\">\n",
       "  <thead>\n",
       "    <tr style=\"text-align: right;\">\n",
       "      <th></th>\n",
       "      <th>$H_0$</th>\n",
       "      <th>$T(X)$</th>\n",
       "      <th>p_value</th>\n",
       "    </tr>\n",
       "  </thead>\n",
       "  <tbody>\n",
       "    <tr>\n",
       "      <th>0</th>\n",
       "      <td>1</td>\n",
       "      <td>115</td>\n",
       "      <td>3.079297e-09</td>\n",
       "    </tr>\n",
       "    <tr>\n",
       "      <th>1</th>\n",
       "      <td>1</td>\n",
       "      <td>111</td>\n",
       "      <td>1.333286e-07</td>\n",
       "    </tr>\n",
       "    <tr>\n",
       "      <th>2</th>\n",
       "      <td>1</td>\n",
       "      <td>121</td>\n",
       "      <td>4.217256e-12</td>\n",
       "    </tr>\n",
       "    <tr>\n",
       "      <th>3</th>\n",
       "      <td>1</td>\n",
       "      <td>113</td>\n",
       "      <td>2.151821e-08</td>\n",
       "    </tr>\n",
       "    <tr>\n",
       "      <th>4</th>\n",
       "      <td>1</td>\n",
       "      <td>120</td>\n",
       "      <td>1.374231e-11</td>\n",
       "    </tr>\n",
       "    <tr>\n",
       "      <th>5</th>\n",
       "      <td>1</td>\n",
       "      <td>113</td>\n",
       "      <td>2.151821e-08</td>\n",
       "    </tr>\n",
       "    <tr>\n",
       "      <th>6</th>\n",
       "      <td>1</td>\n",
       "      <td>105</td>\n",
       "      <td>1.592098e-05</td>\n",
       "    </tr>\n",
       "    <tr>\n",
       "      <th>7</th>\n",
       "      <td>1</td>\n",
       "      <td>103</td>\n",
       "      <td>6.291268e-05</td>\n",
       "    </tr>\n",
       "    <tr>\n",
       "      <th>8</th>\n",
       "      <td>1</td>\n",
       "      <td>106</td>\n",
       "      <td>7.691891e-06</td>\n",
       "    </tr>\n",
       "    <tr>\n",
       "      <th>9</th>\n",
       "      <td>1</td>\n",
       "      <td>108</td>\n",
       "      <td>1.653238e-06</td>\n",
       "    </tr>\n",
       "  </tbody>\n",
       "</table>\n",
       "</div>"
      ],
      "text/plain": [
       "   $H_0$  $T(X)$       p_value\n",
       "0      1     115  3.079297e-09\n",
       "1      1     111  1.333286e-07\n",
       "2      1     121  4.217256e-12\n",
       "3      1     113  2.151821e-08\n",
       "4      1     120  1.374231e-11\n",
       "5      1     113  2.151821e-08\n",
       "6      1     105  1.592098e-05\n",
       "7      1     103  6.291268e-05\n",
       "8      1     106  7.691891e-06\n",
       "9      1     108  1.653238e-06"
      ]
     },
     "execution_count": 189,
     "metadata": {},
     "output_type": "execute_result"
    }
   ],
   "source": [
    "N = 159\n",
    "sample = sps.bernoulli.rvs(size=(10, N), p=0.69)\n",
    "T = sample.sum(axis=1)\n",
    "c = sps.binom.ppf(q=0.95, n=N, p=0.5)\n",
    "p_values = sps.binom.sf(T, n=N, p=0.5)\n",
    "res = [1 if st > c else 0 for st in T]\n",
    "d = {\"$T(X)$\": T, \"p_value\": p_values, \"$H_0$\": res}\n",
    "data = DataFrame(data=d)\n",
    "data"
   ]
  },
  {
   "cell_type": "markdown",
   "metadata": {
    "deletable": true,
    "editable": true
   },
   "source": [
    "**Вывод:** взяли p* = 0.6. Для него подобрали из графика подходящий с точки зрения мощности (betta = 0.7) размер выборки n = 159. Провели две серии экспериментов. Для первого случая, действительно, убедились в том, что гиппотеза H_0 почти никогда не отвергается, то есть эти значния p не отличимы на практике при размере = 159. А для второго случая наоборот, H_0 почти всегда отвергаем."
   ]
  },
  {
   "cell_type": "markdown",
   "metadata": {
    "deletable": true,
    "editable": true
   },
   "source": [
    "### Справка для выполнения следующих задач\n",
    "\n",
    "**Критерий согласия хи-квадрат**\n",
    "\n",
    "<a href=https://docs.scipy.org/doc/scipy/reference/generated/scipy.stats.chisquare.html#scipy.stats.chisquare>`scipy.stats.chisquare`</a>`(f_obs, f_exp=None, ddof=0)`\n",
    "\n",
    "`f_obs` --- число элементов выборки, попавших в каждый из интервалов\n",
    "\n",
    "`f_exp` --- ожидаемое число элементов выборки (по умолчанию равномерное)\n",
    "\n",
    "`ddof` --- поправка на число степеней свободы. Статистика асимптотически будет иметь распределение хи-квадрат с числом степеней свободы $k - 1 - ddof$, где $k$ --- число интервалов.\n",
    "\n",
    "Возвращает значение статистики критерия и соответствующее p-value.\n",
    "\n",
    "**Критерий согласия Колмогорова**\n",
    "\n",
    "<a href=https://docs.scipy.org/doc/scipy/reference/generated/scipy.stats.kstest.html#scipy.stats.kstest>`scipy.stats.kstest`</a>`(rvs, cdf, args=())`\n",
    "\n",
    "`rvs` --- выборка\n",
    "\n",
    "`cdf` --- функция распределения (сама функция или ее название)\n",
    "\n",
    "`args` --- параметры распределения\n",
    "\n",
    "Возвращает значение статистики критерия и соответствующее p-value."
   ]
  },
  {
   "cell_type": "markdown",
   "metadata": {
    "deletable": true,
    "editable": true
   },
   "source": [
    "**Задача 7.**\n",
    "\n",
    "* Проверьте, что ваша выборка значений скорости ветра из задания 2 действительно согласуется с распределением Вейбулла.\n",
    "\n",
    "* Проверьте, что при больших $n$ распределение статистики из задач 3 и 4 задания 2 действительно хорошо приближают предельное распределение.\n",
    "\n",
    "* Проверьте, что остатки в регрессии из задач выше нормальны.\n",
    "\n",
    "* Подберите класс распределений для выборки количества друзей из задания 1.\n",
    "\n",
    "Использовать можно два описанных выше критерия, либо любой другой критерий, если будет обоснована необходимость его применения в данной задаче, а так же будет приведено краткое описание критерия.\n",
    "Уровень значимости взять равным 0.05."
   ]
  },
  {
   "cell_type": "code",
   "execution_count": 211,
   "metadata": {
    "collapsed": true,
    "deletable": true,
    "editable": true
   },
   "outputs": [],
   "source": [
    "wind_speed = np.array([\n",
    "    2.2, 3.3, 1.1, 0.8, 2.7, 2.8, 3.4, 3.6, 3.9, 2.2, 1.9, 2.4, 3.3, 2.2, 1.1, \n",
    "    1.9, 0.6, 2.2, 1.9, 2.5, 1.7, 1.9, 1.1, 1.9, 3.1, 1.7, 1.0, 2.9, 2.8, 4.7, \n",
    "    3.1, 2.4, 1.9, 2.8, 3.1, 2.8, 4.7, 3.1, 3.1, 4.6, 4.4, 1.2, 3.6, 5.8, 6.4, \n",
    "    4.1, 2.2, 2.9, 1.7, 1.5, 1.5, 1.1, 3.1, 3.6, 3.9, 3.6, 3.4, 2.9, 3.2, 0.5,\n",
    "    1.0, 2.5, 3.6, 5.5, 5.0, 3.9, 1.1, 2.2, 2.2, 4.1, 1.9, 3.6, 5.8, 6.2, 3.2, \n",
    "    2.5, 1.4, 0.1, 2.2, 3.6, 4.7, 5.8, 4.4, 3.6, 4.1, 4.4, 3.2, 2.4, 1.7, 1.7, \n",
    "    2.9, 3.2, 0.7, 1.0, 1.9, 3.1, 4.4, 3.3, 1.4, 0.1, 2.5, 2.9, 0.7, 2.2, 7.5, \n",
    "    6.9, 4.7, 1.7, 4.1, 1.4, 1.5, 2.4, 1.7, 2.4, 2.8, 3.3, 2.7, 3.6, 2.2, 2.8,\n",
    "    2.5, 2.4, 2.4, 3.3, 1.2, 3.0, 3.2, 3.6, 2.2, 2.2, 2.9, 3.6, 1.9, 1.2, 2.4, \n",
    "    1.4, 1.5, 1.2, 2.2, 1.2, 3.3, 2.2, 2.8, 3.3, 1.0, 1.2, 2.7, 2.2\n",
    "], dtype = float)"
   ]
  },
  {
   "cell_type": "code",
   "execution_count": 259,
   "metadata": {
    "collapsed": false,
    "deletable": true,
    "editable": true
   },
   "outputs": [
    {
     "data": {
      "text/plain": [
       "KstestResult(statistic=0.080745955882075782, pvalue=0.27512181350825449)"
      ]
     },
     "execution_count": 259,
     "metadata": {},
     "output_type": "execute_result"
    }
   ],
   "source": [
    "\n",
    "KS = sps.kstest(wind_speed, sps.weibull_min(c=2.10701, scale=3.08161).cdf)\n",
    "KS"
   ]
  },
  {
   "cell_type": "code",
   "execution_count": 450,
   "metadata": {
    "collapsed": false,
    "deletable": true,
    "editable": true
   },
   "outputs": [
    {
     "data": {
      "text/plain": [
       "KstestResult(statistic=0.052916388658144631, pvalue=0.63024350941986684)"
      ]
     },
     "execution_count": 450,
     "metadata": {},
     "output_type": "execute_result"
    }
   ],
   "source": [
    "N = 300\n",
    "K = 200\n",
    "mu = 1\n",
    "sample = sps.poisson.rvs(size = (K, N), mu=mu)\n",
    "X = sample.sum(axis = 1) / N\n",
    "T = N ** (0.5) * (X - mu)\n",
    "KS = sps.kstest(T, sps.norm(loc=0, scale=1).cdf)\n",
    "KS"
   ]
  },
  {
   "cell_type": "code",
   "execution_count": 475,
   "metadata": {
    "collapsed": false,
    "deletable": true,
    "editable": true
   },
   "outputs": [
    {
     "data": {
      "text/plain": [
       "KstestResult(statistic=0.06447638488968721, pvalue=0.36333255610023429)"
      ]
     },
     "execution_count": 475,
     "metadata": {},
     "output_type": "execute_result"
    }
   ],
   "source": [
    "N = 300\n",
    "K = 200\n",
    "theta = 1\n",
    "sample = sps.uniform.rvs(size = (K, N), loc=0, scale=theta)\n",
    "X = sample.max(axis = 1)\n",
    "T = N * (theta - X)\n",
    "KS = sps.kstest(T, sps.expon(scale=theta).cdf) \n",
    "KS"
   ]
  },
  {
   "cell_type": "code",
   "execution_count": 285,
   "metadata": {
    "collapsed": false,
    "deletable": true,
    "editable": true
   },
   "outputs": [
    {
     "data": {
      "text/plain": [
       "KstestResult(statistic=0.10018504045522869, pvalue=0.92408052932748319)"
      ]
     },
     "execution_count": 285,
     "metadata": {},
     "output_type": "execute_result"
    }
   ],
   "source": [
    "mean = residuals.mean()\n",
    "std = residuals.std()\n",
    "KS = sps.kstest(residuals, sps.norm(loc=mean, scale=std).cdf)\n",
    "KS"
   ]
  },
  {
   "cell_type": "code",
   "execution_count": 307,
   "metadata": {
    "collapsed": false,
    "deletable": true,
    "editable": true
   },
   "outputs": [
    {
     "data": {
      "text/plain": [
       "array([ 97,  74, 222,  20, 230, 207,  45, 105, 289, 391, 151, 284, 363,\n",
       "       340, 287, 442, 404, 530, 470, 215, 264, 171, 545, 264, 171, 545,\n",
       "       644,  86, 327, 271,  86, 327, 271,  86, 269, 194, 258, 363, 119,\n",
       "        49, 115, 560, 112, 194, 102, 313, 304, 270, 130, 124, 139, 116,\n",
       "       535,  19])"
      ]
     },
     "execution_count": 307,
     "metadata": {},
     "output_type": "execute_result"
    }
   ],
   "source": [
    "fr_sample = np.array([97,74,222,20,230,207,45,105,289,391,151,284,363,340,287,442,404,530,470,215,264,171,545,264,171,545,644,86,327,271,86,327,271,86,269,194,258,363,119,49,115,560,112,194,102,313,304,270,130,124,139,116,535,19])\n",
    "fr_sample"
   ]
  },
  {
   "cell_type": "code",
   "execution_count": 306,
   "metadata": {
    "collapsed": false,
    "deletable": true,
    "editable": true
   },
   "outputs": [
    {
     "data": {
      "text/plain": [
       "KstestResult(statistic=0.14236304163623131, pvalue=0.2035426280208632)"
      ]
     },
     "execution_count": 306,
     "metadata": {},
     "output_type": "execute_result"
    }
   ],
   "source": [
    "mean = fr_sample.mean()\n",
    "min = fr_sample.min()\n",
    "KS = sps.kstest(fr_sample, sps.expon(loc = min, scale=mean).cdf)\n",
    "KS"
   ]
  },
  {
   "cell_type": "code",
   "execution_count": null,
   "metadata": {
    "collapsed": true,
    "deletable": true,
    "editable": true
   },
   "outputs": [],
   "source": []
  },
  {
   "cell_type": "markdown",
   "metadata": {
    "deletable": true,
    "editable": true
   },
   "source": [
    "**Задача 8<font size=\"5\" color=\"red\">\\*</font>.** Проведите исследование согласно примеру 2 параграфа 2 главы 18 книги М.Б. Лагутина \"Наглядная математическая статистика\"."
   ]
  },
  {
   "cell_type": "code",
   "execution_count": null,
   "metadata": {
    "collapsed": true,
    "deletable": true,
    "editable": true
   },
   "outputs": [],
   "source": []
  },
  {
   "cell_type": "markdown",
   "metadata": {
    "deletable": true,
    "editable": true
   },
   "source": [
    "**Задача 9<font size=\"5\" color=\"red\">\\*</font>.** \n",
    "Изучите Q-Q plot и критерий Шапиро-Уилка для проверки нормальности, напишите их теоретическое пояснение.\n",
    "В изучении могут помочь материалы курса <a href=\"http://wiki.cs.hse.ru/%D0%9F%D1%80%D0%B8%D0%BA%D0%BB%D0%B0%D0%B4%D0%BD%D0%BE%D0%B9_%D1%81%D1%82%D0%B0%D1%82%D0%B8%D1%81%D1%82%D0%B8%D1%87%D0%B5%D1%81%D0%BA%D0%B8%D0%B9_%D0%B0%D0%BD%D0%B0%D0%BB%D0%B8%D0%B7_%D0%B4%D0%B0%D0%BD%D0%BD%D1%8B%D1%85\"> ПСАД</a>.\n",
    "\n",
    "Постройте графики Q-Q plot для различных распределений и дайте к ним пояснение.\n",
    "Проверьте различные данные на нормальность с помощью различных критериев и Q-Q plot.\n",
    "Данные можно использовать из задачи 7 или какие-либо еще, например, отдельные компоненты из Ирисов Фишера.\n",
    "Постарайтесь так же правильно контролировать вероятность общей ошибки первого рода."
   ]
  }
 ],
 "metadata": {
  "kernelspec": {
   "display_name": "Python 3",
   "language": "python",
   "name": "python3"
  },
  "language_info": {
   "codemirror_mode": {
    "name": "ipython",
    "version": 3
   },
   "file_extension": ".py",
   "mimetype": "text/x-python",
   "name": "python",
   "nbconvert_exporter": "python",
   "pygments_lexer": "ipython3",
   "version": "3.5.2"
  }
 },
 "nbformat": 4,
 "nbformat_minor": 0
}
